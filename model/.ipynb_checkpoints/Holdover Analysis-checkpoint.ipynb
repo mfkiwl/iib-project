{
 "cells": [
  {
   "cell_type": "markdown",
   "metadata": {},
   "source": [
    "# Time of Flight Holdover Analysis\n",
    "Here we will try to characterise the holdover performance of the LimeSDR. We have shown that when both the TX and RX have access to a PPS signal the time of flight can be accuratly calculated to $\\pm$1 sample. During the ascent of the rocket however the on-board GPS will loose lock and we will have to rely on the Lime's VCTCXO to schedule the transmission of packets.\n",
    "\n",
    "Lets make the following assumptions:\n",
    "1. The RX knows exactly when the start of each second is, and is expecting the message to be sent then.\n",
    "2. The TX believes its VCTCXO is running at $f_t$ = 30720000 and measures a second by counting samples. Each time the sample count, $n$, reaches an integer multiple of 30720000 the packet is sent.\n",
    "\n",
    "Clearly the longer the TX runs, the worse the error gets. Initially lets characterise the error after one second when the VCTCXO is not running at the expected frequency."
   ]
  },
  {
   "cell_type": "code",
   "execution_count": 2,
   "metadata": {},
   "outputs": [
    {
     "name": "stdout",
     "output_type": "stream",
     "text": [
      "VCTCXO Freq = 30720002 Hz - TOF Error = 65.0 ns or 20.0 m\n"
     ]
    }
   ],
   "source": [
    "import numpy as np\n",
    "\n",
    "# VCTCXO Frequency\n",
    "f_t = 30720002\n",
    "\n",
    "# Sample Count\n",
    "n = 30720000\n",
    "\n",
    "# Timing Error\n",
    "t_err = 1-(n/f_t)\n",
    "\n",
    "# Display\n",
    "print(\"VCTCXO Freq =\", f_t, \"Hz - TOF Error =\", np.round(t_err*1e9), \"ns or\", np.round(t_err*3e8), \"m\")"
   ]
  },
  {
   "cell_type": "markdown",
   "metadata": {},
   "source": [
    "To better analyse the holdover performance over time lets set the DAC to some value and then record 30 seconds worth of frequency measurements. The transmission will occur after $30 n \\times T_{\\text{avg}}$ seconds. We can then find the difference between this time and the expected time of transmission."
   ]
  },
  {
   "cell_type": "code",
   "execution_count": 3,
   "metadata": {},
   "outputs": [],
   "source": [
    "# Freq Output - DAC = 186\n",
    "freq = [30720000,\n",
    "        30720000,\n",
    "        30720000,\n",
    "        30720000,\n",
    "        30720001,\n",
    "        30719999,\n",
    "        30720001,\n",
    "        30720001,\n",
    "        30720000,\n",
    "        30720001,\n",
    "        30720001,\n",
    "        30720000,\n",
    "        30720000,\n",
    "        30720001,\n",
    "        30720001,\n",
    "        30720000,\n",
    "        30720001,\n",
    "        30720000,\n",
    "        30720001,\n",
    "        30720001,\n",
    "        30720000,\n",
    "        30720001,\n",
    "        30720001,\n",
    "        30720000,\n",
    "        30720000,\n",
    "        30720002,\n",
    "        30720000,\n",
    "        30720000,\n",
    "        30720001,\n",
    "        30720001]"
   ]
  },
  {
   "cell_type": "code",
   "execution_count": 4,
   "metadata": {},
   "outputs": [
    {
     "name": "stdout",
     "output_type": "stream",
     "text": [
      "Avg. VCTCXO Freq = 30720000.5 Hz - TOF Error = 488.0 ns or 146.0 m\n"
     ]
    }
   ],
   "source": [
    "t30_err = 30*(1-n/np.mean(freq))\n",
    "print(\"Avg. VCTCXO Freq =\", np.mean(freq), \"Hz - TOF Error =\", np.round(t30_err*1e9), \"ns or\", np.round(t30_err*3e8), \"m\")"
   ]
  },
  {
   "cell_type": "markdown",
   "metadata": {},
   "source": [
    "Lets repeat the analysis with a much larger set of 99 samples and see just how bad it gets."
   ]
  },
  {
   "cell_type": "code",
   "execution_count": 7,
   "metadata": {},
   "outputs": [],
   "source": [
    "# Freq Output - DAC = 185\n",
    "freq_2 = [ 30719999,\n",
    "            30719999,\n",
    "            30719999,\n",
    "            30720000,\n",
    "            30719999,\n",
    "            30719999,\n",
    "            30719999,\n",
    "            30719999,\n",
    "            30720000,\n",
    "            30719998,\n",
    "            30720000,\n",
    "            30719999,\n",
    "            30720000,\n",
    "            30719999,\n",
    "            30719999,\n",
    "            30720000,\n",
    "            30719999,\n",
    "            30720000,\n",
    "            30719999,\n",
    "            30719999,\n",
    "            30720000,\n",
    "            30719999,\n",
    "            30720000,\n",
    "            30719999,\n",
    "            30720000,\n",
    "            30719999,\n",
    "            30720000,\n",
    "            30719999,\n",
    "            30719999,\n",
    "            30720000,\n",
    "            30720000,\n",
    "            30719999,\n",
    "            30719999,\n",
    "            30720000,\n",
    "            30720000,\n",
    "            30719999,\n",
    "            30719999,\n",
    "            30720000,\n",
    "            30719999,\n",
    "            30720000,\n",
    "            30719999,\n",
    "            30720000,\n",
    "            30719999,\n",
    "            30720000,\n",
    "            30719999,\n",
    "            30720000,\n",
    "            30720000,\n",
    "            30719999,\n",
    "            30720000,\n",
    "            30719999,\n",
    "            30720000,\n",
    "            30719999,\n",
    "            30720000,\n",
    "            30719999,\n",
    "            30719999,\n",
    "            30720000,\n",
    "            30720000,\n",
    "            30720000,\n",
    "            30719999,\n",
    "            30720000,\n",
    "            30720000,\n",
    "            30719999,\n",
    "            30720000,\n",
    "            30719999,\n",
    "            30720000,\n",
    "            30719999,\n",
    "            30720000,\n",
    "            30720000,\n",
    "            30719999,\n",
    "            30720000,\n",
    "            30720000,\n",
    "            30719999,\n",
    "            30719999,\n",
    "            30720000,\n",
    "            30720000,\n",
    "            30719999,\n",
    "            30720000,\n",
    "            30720000,\n",
    "            30720000,\n",
    "            30720000,\n",
    "            30720000,\n",
    "            30720000,\n",
    "            30720000,\n",
    "            30720000,\n",
    "            30719999,\n",
    "            30720000,\n",
    "            30720000,\n",
    "            30720000,\n",
    "            30720000,\n",
    "            30720000,\n",
    "            30720000,\n",
    "            30720000,\n",
    "            30720000,\n",
    "            30720000,\n",
    "            30719999,\n",
    "            30720000,\n",
    "            30720000,\n",
    "            30720000,\n",
    "            30719999]"
   ]
  },
  {
   "cell_type": "code",
   "execution_count": 8,
   "metadata": {},
   "outputs": [
    {
     "name": "stdout",
     "output_type": "stream",
     "text": [
      "Avg. VCTCXO Freq = 30719999.555555556 Hz - TOF Error = -1432.0 ns or -430.0 m\n"
     ]
    }
   ],
   "source": [
    "t99_err = np.size(freq_2)*(1-n/np.mean(freq_2))\n",
    "print(\"Avg. VCTCXO Freq =\", np.mean(freq_2), \"Hz - TOF Error =\", np.round(t99_err*1e9), \"ns or\", np.round(t99_err*3e8), \"m\")"
   ]
  }
 ],
 "metadata": {
  "kernelspec": {
   "display_name": "Python 3",
   "language": "python",
   "name": "python3"
  },
  "language_info": {
   "codemirror_mode": {
    "name": "ipython",
    "version": 3
   },
   "file_extension": ".py",
   "mimetype": "text/x-python",
   "name": "python",
   "nbconvert_exporter": "python",
   "pygments_lexer": "ipython3",
   "version": "3.5.2"
  }
 },
 "nbformat": 4,
 "nbformat_minor": 2
}
